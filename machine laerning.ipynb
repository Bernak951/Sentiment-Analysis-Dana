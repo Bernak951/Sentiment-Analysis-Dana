{
 "cells": [
  {
   "cell_type": "code",
   "execution_count": 1,
   "metadata": {},
   "outputs": [],
   "source": [
    "import joblib\n",
    "svm_model = joblib.load(r'D:\\TUGAS KULIAH\\Kuliah semester 4\\Business Intelligence\\Sentimen Analysis Dana\\svm_model.pkl')\n",
    "vectorizer = joblib.load(r'D:\\TUGAS KULIAH\\Kuliah semester 4\\Business Intelligence\\Sentimen Analysis Dana\\vectorizer.pkl')"
   ]
  },
  {
   "cell_type": "code",
   "execution_count": 2,
   "metadata": {},
   "outputs": [],
   "source": [
    "import tkinter as tk\n",
    "from tkinter import scrolledtext\n",
    "from sklearn.feature_extraction.text import TfidfVectorizer\n",
    "import joblib\n",
    "\n",
    "# Load your trained model and vectorizer\n",
    "model = joblib.load('svm_model.pkl')  # replace with your model file\n",
    "vectorizer = joblib.load('vectorizer.pkl')  # replace with your vectorizer file\n",
    "\n",
    "def predict_sentiment():\n",
    "    # Get the user input\n",
    "    user_input = text_area.get(\"1.0\", \"end-1c\")\n",
    "\n",
    "    # Preprocess and vectorize input\n",
    "    vectorized_input = vectorizer.transform([user_input])\n",
    "\n",
    "    # Predict sentiment\n",
    "    prediction = model.predict(vectorized_input)\n",
    "\n",
    "    # Display the prediction\n",
    "    label_result.config(text=\"Predicted Sentiment: \" + str(prediction[0]))\n",
    "\n",
    "# Set up the tkinter window\n",
    "root = tk.Tk()\n",
    "root.title(\"Sentiment Analysis GUI\")\n",
    "\n",
    "# Create a text area for user input\n",
    "text_area = scrolledtext.ScrolledText(root, wrap=tk.WORD, width=40, height=10)\n",
    "text_area.grid(column=0, row=0, pady=10, padx=10)\n",
    "\n",
    "# Create a button to trigger sentiment analysis\n",
    "predict_button = tk.Button(root, text=\"Predict Sentiment\", command=predict_sentiment)\n",
    "predict_button.grid(column=0, row=1)\n",
    "\n",
    "# Label to display the result\n",
    "label_result = tk.Label(root, text=\"\", font=(\"Helvetica\", 12))\n",
    "label_result.grid(column=0, row=2)\n",
    "\n",
    "# Run the application\n",
    "root.mainloop()\n"
   ]
  }
 ],
 "metadata": {
  "kernelspec": {
   "display_name": "base",
   "language": "python",
   "name": "python3"
  },
  "language_info": {
   "codemirror_mode": {
    "name": "ipython",
    "version": 3
   },
   "file_extension": ".py",
   "mimetype": "text/x-python",
   "name": "python",
   "nbconvert_exporter": "python",
   "pygments_lexer": "ipython3",
   "version": "3.11.7"
  }
 },
 "nbformat": 4,
 "nbformat_minor": 2
}
