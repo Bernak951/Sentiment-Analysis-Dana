{
 "cells": [
  {
   "cell_type": "code",
   "execution_count": null,
   "metadata": {},
   "outputs": [],
   "source": [
    "import pandas as pd"
   ]
  },
  {
   "cell_type": "code",
   "execution_count": null,
   "metadata": {},
   "outputs": [],
   "source": [
    "from google_play_scraper import Sort, reviews_all # type: ignore\n",
    "import time  # Import the time module\n",
    "\n",
    "# Set the desired total number of reviews to fetch\n",
    "target_reviews = 10000\n",
    "\n",
    "# Set the batch size\n",
    "batch_size = 200  # Google Play Store limit is 200 reviews per request\n",
    "\n",
    "# Fetch reviews in batches\n",
    "all_reviews = []\n",
    "unique_review_ids = set()  # Set to store unique review IDs\n",
    "\n",
    "while len(all_reviews) < target_reviews:\n",
    "    try:\n",
    "        # Calculate the number of reviews to fetch in this batch\n",
    "        remaining_reviews = target_reviews - len(all_reviews)\n",
    "        reviews_to_fetch = min(remaining_reviews, batch_size)\n",
    "\n",
    "        # Fetch reviews for the current batch\n",
    "        batch_reviews = reviews_all(\n",
    "            'id.dana',\n",
    "            sleep_milliseconds=0,  # Add a delay between requests if needed\n",
    "            lang='id',  # defaults to 'en'\n",
    "            country='id',  # defaults to 'us'\n",
    "            sort=Sort.MOST_RELEVANT,  # defaults to Sort.MOST_RELEVANT\n",
    "            count=reviews_to_fetch  # Specify the number of reviews to fetch\n",
    "        )\n",
    "\n",
    "        for review in batch_reviews:\n",
    "            if review['reviewId'] not in unique_review_ids:\n",
    "                all_reviews.append(review)\n",
    "                unique_review_ids.add(review['reviewId'])\n",
    "\n",
    "            if len(all_reviews) >= target_reviews:\n",
    "                break  # Stop fetching if target number of reviews is reached\n",
    "\n",
    "        print(f\"Fetched {len(all_reviews)} reviews out of {target_reviews}...\")\n",
    "\n",
    "    except Exception as e:  \n",
    "        print(f\"Error fetching reviews: {e}\")\n",
    "        # Handle the error appropriately\n",
    "        time.sleep(5)  # Wait for 5 seconds before retrying\n",
    "\n",
    "# Now, 'all_reviews' contains the desired number of unique reviews"
   ]
  },
  {
   "cell_type": "code",
   "execution_count": null,
   "metadata": {},
   "outputs": [],
   "source": [
    "df = pd.datafranme(all_reviews)"
   ]
  },
  {
   "cell_type": "code",
   "execution_count": null,
   "metadata": {},
   "outputs": [],
   "source": [
    "# Export the DataFrame to a CSV file\n",
    "df.to_csv('dana_reviews.csv', index=False)  # Specify the file name"
   ]
  }
 ],
 "metadata": {
  "language_info": {
   "name": "python"
  }
 },
 "nbformat": 4,
 "nbformat_minor": 2
}
